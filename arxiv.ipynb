{
 "cells": [
  {
   "cell_type": "code",
   "execution_count": null,
   "metadata": {},
   "outputs": [],
   "source": [
    "import requests\n",
    "import xmltodict\n",
    "from datetime import datetime\n",
    "import time\n",
    "import pandas as pd\n",
    "import json\n",
    "\n",
    "BASE = 'http://export.arxiv.org/oai2?verb=ListRecords'"
   ]
  },
  {
   "cell_type": "code",
   "execution_count": null,
   "metadata": {},
   "outputs": [],
   "source": [
    "# initial request for every single paper\n",
    "response = requests.get(f'{BASE}&metadataPrefix=arXiv')\n",
    "\n",
    "# grabbing resumption token for subsequent requests\n",
    "initial_dict = xmltodict.parse(response.text)\n",
    "res_token = initial_dict['OAI-PMH']['ListRecords']['resumptionToken']['#text']\n",
    "\n",
    "time.sleep(5)"
   ]
  },
  {
   "cell_type": "code",
   "execution_count": null,
   "metadata": {},
   "outputs": [],
   "source": [
    "all_papers = initial_dict['OAI-PMH']['ListRecords']['record']\n",
    "total_papers = int(initial_dict['OAI-PMH']['ListRecords']['resumptionToken']['@completeListSize'])\n",
    "\n",
    "# keep requesting with new response token. once token has no text field, we're at the end\n",
    "while res_token:\n",
    "    response = requests.get(f'{BASE}&resumptionToken={res_token}')\n",
    "    response_dict = xmltodict.parse(response.text)\n",
    "    papers = response_dict['OAI-PMH']['ListRecords']['record']\n",
    "    all_papers += papers\n",
    "    percent_done = round(100 * len(all_papers) / total_papers, 2)\n",
    "    print(f'Total papers processed: {len(all_papers)} out of {total_papers} ({percent_done}%)', end='\\r')\n",
    "    if response_dict['OAI-PMH']['ListRecords']['resumptionToken'].get('#text'):\n",
    "        res_token = response_dict['OAI-PMH']['ListRecords']['resumptionToken']['#text']\n",
    "    else:\n",
    "        res_token = None\n",
    "\n",
    "    time.sleep(5)\n",
    "\n",
    "time_finished = datetime.now()\n",
    "\n",
    "# write to file when all 2 million are in\n",
    "# with open('output.json', 'w') as file:\n",
    "#     json.dump(all_papers, file, indent=2)\n",
    "\n",
    "# time_to_write = datetime.now() - time_finished"
   ]
  },
  {
   "cell_type": "code",
   "execution_count": 38,
   "metadata": {},
   "outputs": [
    {
     "data": {
      "text/plain": [
       "3000"
      ]
     },
     "execution_count": 38,
     "metadata": {},
     "output_type": "execute_result"
    }
   ],
   "source": [
    "# data = json.loads(json.dumps(all_papers))\n",
    "len(data)"
   ]
  },
  {
   "cell_type": "code",
   "execution_count": null,
   "metadata": {},
   "outputs": [],
   "source": [
    "print(time_finished.strftime('%m/%d/%Y %H:%M:%S'))\n",
    "print(time_to_write.strftime())"
   ]
  },
  {
   "cell_type": "code",
   "execution_count": null,
   "metadata": {},
   "outputs": [],
   "source": [
    "print(time_finished.strftime('%m/%d/%Y %H:%M:%S'))"
   ]
  },
  {
   "cell_type": "code",
   "execution_count": null,
   "metadata": {},
   "outputs": [],
   "source": []
  },
  {
   "cell_type": "code",
   "execution_count": null,
   "metadata": {},
   "outputs": [],
   "source": []
  }
 ],
 "metadata": {
  "interpreter": {
   "hash": "71fdff05b81c8e1edf83c38635acb8fe674a3f8cdb8522ca6c810a60cf757fde"
  },
  "kernelspec": {
   "display_name": "Python 3.9.2 64-bit",
   "language": "python",
   "name": "python3"
  },
  "language_info": {
   "codemirror_mode": {
    "name": "ipython",
    "version": 3
   },
   "file_extension": ".py",
   "mimetype": "text/x-python",
   "name": "python",
   "nbconvert_exporter": "python",
   "pygments_lexer": "ipython3",
   "version": "3.9.2"
  },
  "orig_nbformat": 4
 },
 "nbformat": 4,
 "nbformat_minor": 2
}
