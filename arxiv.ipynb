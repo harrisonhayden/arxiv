{
 "cells": [
  {
   "cell_type": "code",
   "execution_count": null,
   "metadata": {},
   "outputs": [],
   "source": [
    "import requests\n",
    "import xmltodict\n",
    "from datetime import date\n",
    "import time\n",
    "import pandas as pd\n",
    "\n",
    "BASE = 'http://export.arxiv.org/api'"
   ]
  },
  {
   "cell_type": "code",
   "execution_count": null,
   "metadata": {},
   "outputs": [],
   "source": [
    "# initial request for every single paper\n",
    "response = requests.get('http://export.arxiv.org/oai2?verb=ListRecords&metadataPrefix=arXiv')\n",
    "\n",
    "# grabbing resumption token for subsequent requests\n",
    "initial_dict = xmltodict.parse(response.text)\n",
    "res_token = initial_dict['OAI-PMH']['ListRecords']['resumptionToken']['#text']\n",
    "\n",
    "time.sleep(5)"
   ]
  },
  {
   "cell_type": "code",
   "execution_count": null,
   "metadata": {},
   "outputs": [],
   "source": [
    "all_papers = initial_dict['OAI-PMH']['ListRecords']['record']\n",
    "\n",
    "# keep requesting with new response token. once token has no text field, we're at the end\n",
    "while res_token:\n",
    "    response = requests.get(f'http://export.arxiv.org/oai2?verb=ListRecords&resumptionToken={res_token}')\n",
    "    response_dict = xmltodict.parse(response.text)\n",
    "    papers = response_dict['OAI-PMH']['ListRecords']['record']\n",
    "    all_papers += papers\n",
    "    print(f'Total papers processed: {len(all_papers)}', end='\\r')\n",
    "    if response_dict['OAI-PMH']['ListRecords']['resumptionToken'].get('#text'):\n",
    "        res_token = response_dict['OAI-PMH']['ListRecords']['resumptionToken']['#text']\n",
    "    else:\n",
    "        res_token = None\n",
    "\n",
    "    time.sleep(5)"
   ]
  },
  {
   "cell_type": "code",
   "execution_count": null,
   "metadata": {},
   "outputs": [],
   "source": [
    "import json\n",
    "json.loads(json.dumps(all_papers))"
   ]
  },
  {
   "cell_type": "code",
   "execution_count": null,
   "metadata": {},
   "outputs": [],
   "source": []
  }
 ],
 "metadata": {
  "interpreter": {
   "hash": "71fdff05b81c8e1edf83c38635acb8fe674a3f8cdb8522ca6c810a60cf757fde"
  },
  "kernelspec": {
   "display_name": "Python 3.9.2 64-bit",
   "language": "python",
   "name": "python3"
  },
  "language_info": {
   "codemirror_mode": {
    "name": "ipython",
    "version": 3
   },
   "file_extension": ".py",
   "mimetype": "text/x-python",
   "name": "python",
   "nbconvert_exporter": "python",
   "pygments_lexer": "ipython3",
   "version": "3.9.2"
  },
  "orig_nbformat": 4
 },
 "nbformat": 4,
 "nbformat_minor": 2
}
