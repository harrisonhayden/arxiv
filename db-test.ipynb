{
 "cells": [
  {
   "cell_type": "code",
   "execution_count": 1,
   "metadata": {},
   "outputs": [],
   "source": [
    "import pandas as pd\n",
    "import json\n",
    "import sqlite3\n",
    "from sqlite3 import Error\n",
    "\n",
    "data = json.load(open('testdata3k.json'))"
   ]
  },
  {
   "cell_type": "code",
   "execution_count": 2,
   "metadata": {},
   "outputs": [],
   "source": [
    "def create_connection(db_file):\n",
    "    \"\"\" create a database connection to a SQLite database \"\"\"\n",
    "    conn = None\n",
    "    try:\n",
    "        conn = sqlite3.connect(db_file)\n",
    "    except Error as e:\n",
    "        print(e)\n",
    "\n",
    "    return conn\n",
    "\n",
    "def insert_paper(conn, paper):\n",
    "    sql = \"\"\"\n",
    "        INSERT INTO papers(ID, TITLE, AUTHORS, CREATED, UPDATED, SETSPEC, CATEGORIES, ABSTRACT, COMMENTS, REPORTNUM, JOURNALREF, DOI)\n",
    "        VALUES(?, ?, ?, ?, ?, ?, ?, ?, ?, ?, ?, ?)\n",
    "        \"\"\"\n",
    "    cursor = conn.cursor()\n",
    "    cursor.execute(sql, paper)\n",
    "    conn.commit()\n",
    "\n",
    "    return cursor.lastrowid"
   ]
  },
  {
   "cell_type": "code",
   "execution_count": 11,
   "metadata": {},
   "outputs": [],
   "source": [
    "# ALL functions to be used in data extraction before loading into db\n",
    "\n",
    "def get_authors(authors):\n",
    "    author_list = []\n",
    "    for author in authors:\n",
    "        author_list.append(author['keyname'])\n",
    "    return ', '.join(author_list)\n",
    "\n",
    "def get_sets(setSpec):\n",
    "    return ', '.join(setSpec)\n"
   ]
  },
  {
   "cell_type": "code",
   "execution_count": 6,
   "metadata": {},
   "outputs": [
    {
     "name": "stdout",
     "output_type": "stream",
     "text": [
      "('0704.0002', 'Sparsity-certifying Graph Decompositions', 'Streinu, Theran', '2007-03-30', '2008-12-13', 'cs, math', 'math.CO cs.CG', 'We describe a new algorithm, the $(k,\\\\ell)$-pebble game with colors, and use\\nit obtain a characterization of the family of $(k,\\\\ell)$-sparse graphs and\\nalgorithmic solutions to a family of problems concerning tree decompositions of\\ngraphs. Special instances of sparse graphs appear in rigidity theory and have\\nreceived increased attention in recent years. In particular, our colored\\npebbles generalize and strengthen the previous results of Lee and Streinu and\\ngive a new proof of the Tutte-Nash-Williams characterization of arboricity. We\\nalso present a new decomposition that certifies sparsity based on the\\n$(k,\\\\ell)$-pebble game with colors. Our work also exposes connections between\\npebble game algorithms and previous sparse graph algorithms by Gabow, Gabow and\\nWestermann and Hendrickson.', 'To appear in Graphs and Combinatorics', None, None, None)\n"
     ]
    }
   ],
   "source": [
    "\n",
    "i = 1\n",
    "main = data[i]['metadata']['arXiv']\n",
    "ID = main['id']\n",
    "TITLE = main['title']\n",
    "AUTHORS = get_authors(main['authors']['author'])\n",
    "CREATED = main['created']\n",
    "UPDATED = main['updated']\n",
    "setSpec = data[i]['header']['setSpec']\n",
    "if type(setSpec) is list:\n",
    "    SETSPEC = get_sets(setSpec)\n",
    "else:\n",
    "    SETSPEC = setSpec\n",
    "CATEGORIES = main['categories']\n",
    "ABSTRACT = main['abstract']\n",
    "COMMENTS = main['comments']\n",
    "try:\n",
    "    REPORTNUM = main['report-no']\n",
    "except:\n",
    "    REPORTNUM = None\n",
    "try:\n",
    "    JOURNALREF = main['journal-ref']\n",
    "except:\n",
    "    JOURNALREF = None\n",
    "try:\n",
    "    DOI = main['doi']\n",
    "except:\n",
    "    DOI = None\n",
    "\n",
    "test_paper = (ID, TITLE, AUTHORS, CREATED, UPDATED, SETSPEC, CATEGORIES, ABSTRACT, COMMENTS, REPORTNUM, JOURNALREF, DOI)\n",
    "print(test_paper)\n",
    "db = 'arxiv.db'\n",
    "conn = create_connection(db)"
   ]
  },
  {
   "cell_type": "code",
   "execution_count": 14,
   "metadata": {},
   "outputs": [
    {
     "ename": "KeyError",
     "evalue": "'updatd'",
     "output_type": "error",
     "traceback": [
      "\u001b[1;31m---------------------------------------------------------------------------\u001b[0m",
      "\u001b[1;31mKeyError\u001b[0m                                  Traceback (most recent call last)",
      "\u001b[1;32mc:\\Users\\flame\\Documents\\Projects\\arxiv\\db-test.ipynb Cell 5'\u001b[0m in \u001b[0;36m<module>\u001b[1;34m\u001b[0m\n\u001b[1;32m----> <a href='vscode-notebook-cell:/c%3A/Users/flame/Documents/Projects/arxiv/db-test.ipynb#ch0000012?line=0'>1</a>\u001b[0m check_field(data[\u001b[39m2\u001b[39;49m][\u001b[39m'\u001b[39;49m\u001b[39mmetadata\u001b[39;49m\u001b[39m'\u001b[39;49m][\u001b[39m'\u001b[39;49m\u001b[39marXiv\u001b[39;49m\u001b[39m'\u001b[39;49m][\u001b[39m'\u001b[39;49m\u001b[39mupdatd\u001b[39;49m\u001b[39m'\u001b[39;49m])\n",
      "\u001b[1;31mKeyError\u001b[0m: 'updatd'"
     ]
    }
   ],
   "source": []
  },
  {
   "cell_type": "code",
   "execution_count": 9,
   "metadata": {},
   "outputs": [],
   "source": [
    "insert_paper(conn, test_paper)\n"
   ]
  },
  {
   "cell_type": "code",
   "execution_count": 38,
   "metadata": {},
   "outputs": [
    {
     "data": {
      "text/plain": [
       "[{'keyname': 'Balázs', 'forenames': 'C.'},\n",
       " {'keyname': 'Berger', 'forenames': 'E. L.'},\n",
       " {'keyname': 'Nadolsky', 'forenames': 'P. M.'},\n",
       " {'keyname': {...}, 'forenames': 'C. -P.'}]"
      ]
     },
     "execution_count": 38,
     "metadata": {},
     "output_type": "execute_result"
    }
   ],
   "source": [
    "authors = main['authors']['author']\n",
    "author_list = []\n",
    "for author in authors:\n",
    "    author_list.append(author['keyname'])\n",
    "\n",
    "# ', '.join(author_list)\n",
    "authors"
   ]
  },
  {
   "cell_type": "code",
   "execution_count": 54,
   "metadata": {},
   "outputs": [
    {
     "data": {
      "text/plain": [
       "str"
      ]
     },
     "execution_count": 54,
     "metadata": {},
     "output_type": "execute_result"
    }
   ],
   "source": [
    "im = 'gay'\n",
    "', '.join(im)\n",
    "type(im)"
   ]
  },
  {
   "cell_type": "code",
   "execution_count": 46,
   "metadata": {},
   "outputs": [
    {
     "data": {
      "text/plain": [
       "'Balázs, Berger, Nadolsky, Yuan'"
      ]
     },
     "execution_count": 46,
     "metadata": {},
     "output_type": "execute_result"
    }
   ],
   "source": [
    "get_authors(authors)"
   ]
  },
  {
   "cell_type": "code",
   "execution_count": 23,
   "metadata": {},
   "outputs": [
    {
     "data": {
      "text/plain": [
       "[{'keyname': 'Balázs', 'forenames': 'C.'},\n",
       " {'keyname': 'Berger', 'forenames': 'E. L.'},\n",
       " {'keyname': 'Nadolsky', 'forenames': 'P. M.'},\n",
       " {'keyname': 'Yuan', 'forenames': 'C. -P.'}]"
      ]
     },
     "execution_count": 23,
     "metadata": {},
     "output_type": "execute_result"
    }
   ],
   "source": [
    "authors"
   ]
  },
  {
   "cell_type": "code",
   "execution_count": 45,
   "metadata": {},
   "outputs": [
    {
     "data": {
      "text/plain": [
       "['Balázs', 'Berger', 'Nadolsky', {'keyname': {...}, 'forenames': 'C. -P.'}]"
      ]
     },
     "execution_count": 45,
     "metadata": {},
     "output_type": "execute_result"
    }
   ],
   "source": [
    "author_list"
   ]
  },
  {
   "cell_type": "code",
   "execution_count": null,
   "metadata": {},
   "outputs": [],
   "source": []
  }
 ],
 "metadata": {
  "interpreter": {
   "hash": "71fdff05b81c8e1edf83c38635acb8fe674a3f8cdb8522ca6c810a60cf757fde"
  },
  "kernelspec": {
   "display_name": "Python 3.9.2 64-bit",
   "language": "python",
   "name": "python3"
  },
  "language_info": {
   "codemirror_mode": {
    "name": "ipython",
    "version": 3
   },
   "file_extension": ".py",
   "mimetype": "text/x-python",
   "name": "python",
   "nbconvert_exporter": "python",
   "pygments_lexer": "ipython3",
   "version": "3.9.2"
  },
  "orig_nbformat": 4
 },
 "nbformat": 4,
 "nbformat_minor": 2
}
